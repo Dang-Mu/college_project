{
 "cells": [
  {
   "cell_type": "code",
   "execution_count": 1,
   "metadata": {},
   "outputs": [
    {
     "name": "stdout",
     "output_type": "stream",
     "text": [
      "movieId,title,genres\n",
      "1,Toy Story (1995),Adventure|Animation|Children|Comedy|Fantasy\n",
      "2,Jumanji (1995),Adventure|Children|Fantasy\n",
      "3,Grumpier Old Men (1995),Comedy|Romance\n",
      "4,Waiting to Exhale (1995),Comedy|Drama|Romance\n",
      "5,Father of the Bride Part II (1995),Comedy\n",
      "6,Heat (1995),Action|Crime|Thriller\n",
      "7,Sabrina (1995),Comedy|Romance\n",
      "8,Tom and Huck (1995),Adventure|Children\n",
      "9,Sudden Death (1995),Action\n"
     ]
    }
   ],
   "source": [
    "!head ml-25m/movies.csv"
   ]
  },
  {
   "cell_type": "code",
   "execution_count": 5,
   "metadata": {},
   "outputs": [
    {
     "name": "stdout",
     "output_type": "stream",
     "text": [
      "첫번째 줄 스킵 : ['movieId', 'title', 'genres']\n"
     ]
    }
   ],
   "source": [
    "import csv\n",
    "\n",
    "movies = {}\n",
    "genres = {}\n",
    "\n",
    "with open(\"ml-25m/movies.csv\", \"r\") as f:\n",
    "    csvreader = csv.reader(f)\n",
    "    print(f\"첫번째 줄 스킵 : {next(csvreader)}\")\n",
    "\n",
    "    for id, title, genre in csvreader:\n",
    "        movies[int(id)] = title\n",
    "        genres[int(id)] = set(genre.split(\"|\"))"
   ]
  },
  {
   "cell_type": "code",
   "execution_count": 27,
   "metadata": {},
   "outputs": [],
   "source": [
    "def jaccard_similarity(a, b):\n",
    "    if len(a | b) == 0: return 0\n",
    "    return len(a & b) / len(a | b)"
   ]
  },
  {
   "cell_type": "markdown",
   "metadata": {},
   "source": [
    "`genres[1]` : {'Adventure', 'Animation', 'Children', 'Comedy', 'Fantasy'}\n",
    "\n",
    "`len(genres[1])` : 5\n",
    "\n",
    "`len(genres[1] | genres[2])` : 합집합 (또는) 의 의미를 가지고 있다.\n",
    "\n",
    "`len(genres[1] & genres[2])` : 곱집합 (그리고) 의 의미를 가지고 있다."
   ]
  },
  {
   "cell_type": "code",
   "execution_count": 28,
   "metadata": {},
   "outputs": [],
   "source": [
    "def get_topk_jaccard_genres(target_movie, k=20):\n",
    "    target_genres = genres[target_movie]\n",
    "\n",
    "    result = []\n",
    "    \n",
    "    for movie_id, movie_title in movies.items():\n",
    "        search_genres = genres[movie_id]\n",
    "        score = jaccard_similarity(target_genres, search_genres)\n",
    "\n",
    "        result.append((score, movie_title))\n",
    "\n",
    "    result.sort(reverse=True)\n",
    "    return result[:k]"
   ]
  },
  {
   "cell_type": "code",
   "execution_count": 29,
   "metadata": {},
   "outputs": [
    {
     "name": "stdout",
     "output_type": "stream",
     "text": [
      "Gravity (2013)\n"
     ]
    },
    {
     "data": {
      "text/plain": [
       "[(1.0, 'The Amazing Spider-Man 2 (2014)'),\n",
       " (1.0, 'Gravity (2013)'),\n",
       " (1.0, 'Edge of Tomorrow (2014)'),\n",
       " (0.75, 'V for Vendetta (2006)'),\n",
       " (0.75, 'Tron: Legacy (2010)'),\n",
       " (0.75, 'Transformers: Revenge of the Fallen (2009)'),\n",
       " (0.75, 'Transformers (2007)'),\n",
       " (0.75, 'The Hunger Games: Catching Fire (2013)'),\n",
       " (0.75, 'Tai Chi Zero (2012)'),\n",
       " (0.75, 'Superman Returns (2006)'),\n",
       " (0.75, 'Star Wars: Episode II - Attack of the Clones (2002)'),\n",
       " (0.75, 'Star Trek Into Darkness (2013)'),\n",
       " (0.75, 'Star Trek (2009)'),\n",
       " (0.75, 'Spider-Man 2 (2004)'),\n",
       " (0.75, 'Speed Racer (2008)'),\n",
       " (0.75, 'RoboCop (2014)'),\n",
       " (0.75, 'Riddick (2013)'),\n",
       " (0.75, 'Resident Evil: Retribution (2012)'),\n",
       " (0.75, 'Real Steel (2011)'),\n",
       " (0.75, 'Prometheus (2012)')]"
      ]
     },
     "execution_count": 29,
     "metadata": {},
     "output_type": "execute_result"
    }
   ],
   "source": [
    "gravity = 104841\n",
    "print(movies[gravity])\n",
    "get_topk_jaccard_genres(gravity)"
   ]
  },
  {
   "cell_type": "code",
   "execution_count": 30,
   "metadata": {},
   "outputs": [
    {
     "name": "stdout",
     "output_type": "stream",
     "text": [
      "Iron Man (2008)\n"
     ]
    },
    {
     "data": {
      "text/plain": [
       "[(1.0, 'X-Men: Days of Future Past (2014)'),\n",
       " (1.0, 'X-Men (2000)'),\n",
       " (1.0, 'Women of the Prehistoric Planet (1966)'),\n",
       " (1.0, 'Wheels of Fire (1985)'),\n",
       " (1.0, 'Waterworld (1995)'),\n",
       " (1.0, 'Valerian and the City of a Thousand Planets (2017)'),\n",
       " (1.0, 'Turbo Kid (2015)'),\n",
       " (1.0, 'Tron (1982)'),\n",
       " (1.0, 'Transmorphers Fall of Man (2009)'),\n",
       " (1.0, 'Transmorphers (2007)'),\n",
       " (1.0, 'Transformers: Age of Extinction (2014)'),\n",
       " (1.0, 'Timeline (2003)'),\n",
       " (1.0, 'Time Trap (2017)'),\n",
       " (1.0, 'Time Tracers (1995)'),\n",
       " (1.0, 'Time Machine, The (2002)'),\n",
       " (1.0, 'Time Machine, The (1960)'),\n",
       " (1.0, 'Thor: Ragnarok (2017)'),\n",
       " (1.0, 'The War in Space (1977)'),\n",
       " (1.0, 'The Veil (2017)'),\n",
       " (1.0, 'The Sisterhood (1988)')]"
      ]
     },
     "execution_count": 30,
     "metadata": {},
     "output_type": "execute_result"
    }
   ],
   "source": [
    "iron_man = 59315 # iron man\n",
    "print(movies[iron_man])\n",
    "get_topk_jaccard_genres(iron_man)"
   ]
  },
  {
   "cell_type": "code",
   "execution_count": 31,
   "metadata": {},
   "outputs": [
    {
     "name": "stdout",
     "output_type": "stream",
     "text": [
      "첫번째 줄 스킵 : userId,movieId,rating,timestamp\n",
      "\n"
     ]
    }
   ],
   "source": [
    "ratings = []\n",
    "\n",
    "with open(\"ml-25m/ratings.csv\", \"r\") as f:\n",
    "    print(f\"첫번째 줄 스킵 : {f.readline()}\")\n",
    "    \n",
    "    for line in f:\n",
    "        user_id, movie_id, rating, timestamp = line.split(\",\")\n",
    "        ratings.append((int(user_id), int(movie_id), float(rating)))"
   ]
  },
  {
   "cell_type": "code",
   "execution_count": 47,
   "metadata": {},
   "outputs": [],
   "source": [
    "from collections import defaultdict\n",
    "\n",
    "users = defaultdict(set)\n",
    "\n",
    "for user_id, movie_id, rating in ratings:\n",
    "    users[movie_id].add(user_id)"
   ]
  },
  {
   "cell_type": "markdown",
   "metadata": {},
   "source": [
    "users 에 movie id 값을 넣고, 영화를 본 사용자를 쭉 기록한다.\n",
    "\n",
    "즉, `defaultdict(set, {영화 아이디 : {영화를 본 유저 아이디들}})` 형식이 된다.\n",
    "\n",
    "`users[1]` 하게 되면, 1번 영화를 본 유저의 아이디를 모두 볼 수 있다."
   ]
  },
  {
   "cell_type": "code",
   "execution_count": 52,
   "metadata": {},
   "outputs": [],
   "source": [
    "from tqdm import tqdm\n",
    "\n",
    "def get_topk_jaccard_ratings(target_movie, k=20):\n",
    "    target_users = users[target_movie]\n",
    "\n",
    "    result = []\n",
    "\n",
    "    for movie_id, movie_title in tqdm(movies.items()):\n",
    "        search_users = users[movie_id]\n",
    "        score = jaccard_similarity(target_users, search_users)\n",
    "\n",
    "        result.append((score, movie_title))\n",
    "    \n",
    "    result.sort(reverse=True)\n",
    "    return result[:k]"
   ]
  },
  {
   "cell_type": "markdown",
   "metadata": {},
   "source": [
    "`tqdm` 을 통해 진행도를 수치화하여 확인해볼 수 있다.\n",
    "\n",
    "A 영화를 본 유저 모음과 B 영화를 본 유저 모음의 유사도를 측정하여 A와 B의 유사도를 확인하는 방법이다.\n",
    "즉, 클릭형 데이터와 같다."
   ]
  },
  {
   "cell_type": "code",
   "execution_count": 53,
   "metadata": {},
   "outputs": [
    {
     "name": "stdout",
     "output_type": "stream",
     "text": [
      "104841\n"
     ]
    },
    {
     "name": "stderr",
     "output_type": "stream",
     "text": [
      "100%|██████████| 62423/62423 [00:44<00:00, 1393.26it/s]\n"
     ]
    },
    {
     "data": {
      "text/plain": [
       "[(1.0, 'Gravity (2013)'),\n",
       " (0.35805736078141415, 'Interstellar (2014)'),\n",
       " (0.35123831007096196, 'The Martian (2015)'),\n",
       " (0.34912568306010927, 'Edge of Tomorrow (2014)'),\n",
       " (0.34473317642538065, 'Wolf of Wall Street, The (2013)'),\n",
       " (0.3414977020816437, 'Ex Machina (2015)'),\n",
       " (0.3379782569523695, 'Looper (2012)'),\n",
       " (0.3335578118524658, 'Mad Max: Fury Road (2015)'),\n",
       " (0.32022341168256924, 'Her (2013)'),\n",
       " (0.3199327234688436, 'Dark Knight Rises, The (2012)'),\n",
       " (0.31529790660225443, 'Guardians of the Galaxy (2014)'),\n",
       " (0.3145170941875773, 'Django Unchained (2012)'),\n",
       " (0.31443244942878107, 'Gone Girl (2014)'),\n",
       " (0.3125883303048657, 'The Hunger Games (2012)'),\n",
       " (0.3019681349578257, 'The Imitation Game (2014)'),\n",
       " (0.301206675224647, 'Grand Budapest Hotel, The (2014)'),\n",
       " (0.2998122261631546, 'Shutter Island (2010)'),\n",
       " (0.2976522597536375, 'District 9 (2009)'),\n",
       " (0.29670975323149235, 'Prometheus (2012)'),\n",
       " (0.29623615380154267, 'Arrival (2016)')]"
      ]
     },
     "execution_count": 53,
     "metadata": {},
     "output_type": "execute_result"
    }
   ],
   "source": [
    "print(gravity)\n",
    "get_topk_jaccard_ratings(gravity)"
   ]
  },
  {
   "cell_type": "code",
   "execution_count": 55,
   "metadata": {},
   "outputs": [
    {
     "name": "stdout",
     "output_type": "stream",
     "text": [
      "59315\n"
     ]
    },
    {
     "name": "stderr",
     "output_type": "stream",
     "text": [
      "100%|██████████| 62423/62423 [01:44<00:00, 599.62it/s]\n"
     ]
    },
    {
     "data": {
      "text/plain": [
       "[(1.0, 'Iron Man (2008)'),\n",
       " (0.4553055080248652, 'Dark Knight, The (2008)'),\n",
       " (0.43536170577643124, 'Avatar (2009)'),\n",
       " (0.43502839245244584, 'Batman Begins (2005)'),\n",
       " (0.42462278447651053, 'Avengers, The (2012)'),\n",
       " (0.4243327426024381, 'WALL·E (2008)'),\n",
       " (0.4046754120417087, 'Star Trek (2009)'),\n",
       " (0.3885758527248484, 'Inception (2010)'),\n",
       " (0.3834631515877771, 'Up (2009)'),\n",
       " (0.3798344017094017, 'V for Vendetta (2006)'),\n",
       " (0.3785325924598196, 'Bourne Ultimatum, The (2007)'),\n",
       " (0.3762459999264354, 'Iron Man 2 (2010)'),\n",
       " (0.37312455346511075, 'Casino Royale (2006)'),\n",
       " (0.3730232838338504, 'Dark Knight Rises, The (2012)'),\n",
       " (0.3658243080625752, 'Guardians of the Galaxy (2014)'),\n",
       " (0.3597768479776848, 'Inglourious Basterds (2009)'),\n",
       " (0.35823165579477473, 'Sherlock Holmes (2009)'),\n",
       " (0.3566166184836333, 'District 9 (2009)'),\n",
       " (0.3556231003039514, 'Prestige, The (2006)'),\n",
       " (0.35248645687503805, '300 (2007)')]"
      ]
     },
     "execution_count": 55,
     "metadata": {},
     "output_type": "execute_result"
    }
   ],
   "source": [
    "print(iron_man)\n",
    "get_topk_jaccard_ratings(iron_man)"
   ]
  },
  {
   "cell_type": "code",
   "execution_count": 56,
   "metadata": {},
   "outputs": [],
   "source": [
    "uratings = defaultdict(dict)\n",
    "\n",
    "for user_id, movie_id, rating in ratings:\n",
    "    uratings[movie_id][user_id] = rating"
   ]
  },
  {
   "cell_type": "markdown",
   "metadata": {},
   "source": [
    "uratings 에 movie id 값을 넣고, 영화를 본 사용자와 랭킹을 쭉 기록한다.\n",
    "\n",
    "즉, `defaultdict(set, {영화 아이디 : {영화를 본 유저 아이디들 : 별점들}})` 형식이 된다.\n",
    "\n",
    "`uratings[1]` 하게 되면, 1번 영화를 본 유저의 아이디와 별점들을 모두 볼 수 있다."
   ]
  },
  {
   "cell_type": "code",
   "execution_count": 58,
   "metadata": {},
   "outputs": [],
   "source": [
    "for movie_id, rating_set in uratings.items():\n",
    "    avg = sum(rating_set.values()) / len(rating_set)\n",
    "    \n",
    "    for k in rating_set:\n",
    "        rating_set[k] -= avg"
   ]
  },
  {
   "cell_type": "markdown",
   "metadata": {},
   "source": [
    "- Pearson Correlation\n",
    "    - uratings 의 영화 아이디와 유저들의 별점들을 가져온다.\n",
    "    - 평균 값을 생성하고, 유저들의 별점들의 값을 평균 값으로 뺀다."
   ]
  },
  {
   "cell_type": "code",
   "execution_count": 59,
   "metadata": {},
   "outputs": [],
   "source": [
    "def cosine_similarity(a, b):\n",
    "    numerator = sum(a[k] * b[k] for k in a.keys() & b.keys())\n",
    "    denominator = (sum(x*x for x in a.values()) * sum(x*x for x in b.values())) ** 0.5\n",
    "    if denominator == 0: return 0\n",
    "    return numerator / denominator"
   ]
  },
  {
   "cell_type": "markdown",
   "metadata": {},
   "source": [
    "1. 타겟 영화의 유저 아이디 값과 검색할 영화의 유저 아이디 값 중 두 값이 모두 존재하는 k에 대하여 유저들의 별점에서 해당하는 값끼리 가져오고 이 가져온 값들을 모두 더한다.\n",
    "    1. 두 값이 모두 존재하는 곱집합에 해당하는 k는 둘 다 본 유저의 아이디를 의미한다.\n",
    "    2. 유저의 별점을 각각 곱한 후 그 곱한 값들을 모두 더한다.\n",
    "2. 타겟 영화에 존재하는 유저 별점들의 값을 모두 제곱한 후 더하고, 검색할 영화에 존재하는 유저 별점들의 값을 모두 제곱한 후 더한다. 그리고 이 값에 루트 값을 씌운다.\n",
    "3. 1번의 값을 2번의 값으로 나누면 코사인 유사도 값이 나온다."
   ]
  },
  {
   "cell_type": "code",
   "execution_count": 60,
   "metadata": {},
   "outputs": [],
   "source": [
    "def get_topk_pearson_ratings(target_moive, k=20):\n",
    "    target_rating_set = uratings[target_moive]\n",
    "\n",
    "    result = []\n",
    "\n",
    "    for movie_id, search_rating_set in tqdm(uratings.items()):\n",
    "        score = cosine_similarity(target_rating_set, search_rating_set)\n",
    "\n",
    "        result.append((score, movies[movie_id]))\n",
    "\n",
    "    result.sort(reverse=True)\n",
    "    return result[:k]"
   ]
  },
  {
   "cell_type": "markdown",
   "metadata": {},
   "source": [
    "1. 각 영화에 유저들의 별점 모음에서 타겟이 되는 {유저:별점} 사전을 들고 온다.\n",
    "2. 모든 영화에 유저들의 별점 모음에서 아이디와 {유저:별점} 사전을 추출하고, 타겟 유저들의 별점 모음 사전과 현 영화의 유저들의 별점 모음에 대하여 코사인 유사도를 확인한다.\n",
    "3. 유사도가 가장 높은 k개를 반환한다."
   ]
  },
  {
   "cell_type": "code",
   "execution_count": 61,
   "metadata": {},
   "outputs": [
    {
     "name": "stdout",
     "output_type": "stream",
     "text": [
      "104841\n"
     ]
    },
    {
     "name": "stderr",
     "output_type": "stream",
     "text": [
      "100%|██████████| 59047/59047 [00:32<00:00, 1814.89it/s]\n"
     ]
    },
    {
     "data": {
      "text/plain": [
       "[(0.9999999999999993, 'Gravity (2013)'),\n",
       " (0.1675637835030477, 'The Martian (2015)'),\n",
       " (0.15893037944645264, 'Interstellar (2014)'),\n",
       " (0.14507434012672565, 'Looper (2012)'),\n",
       " (0.1445289584542844, 'Edge of Tomorrow (2014)'),\n",
       " (0.14270120617078794, 'Social Network, The (2010)'),\n",
       " (0.13265580029724086, 'Arrival (2016)'),\n",
       " (0.13180094930828926, 'Ex Machina (2015)'),\n",
       " (0.13174966953825917, 'Her (2013)'),\n",
       " (0.13084736683121753, 'Mad Max: Fury Road (2015)'),\n",
       " (0.1306607659810794, 'Life of Pi (2012)'),\n",
       " (0.13052055540487748, 'The Revenant (2015)'),\n",
       " (0.12836566088259643, 'Inception (2010)'),\n",
       " (0.12808470593620774, 'Avatar (2009)'),\n",
       " (0.12752398072279233, 'Prometheus (2012)'),\n",
       " (0.12602477214897687, 'Dawn of the Planet of the Apes (2014)'),\n",
       " (0.12466787482767948, 'Argo (2012)'),\n",
       " (0.12373555110752064, 'Rise of the Planet of the Apes (2011)'),\n",
       " (0.12125702995402551, 'Skyfall (2012)'),\n",
       " (0.11854312281090199, 'Gone Girl (2014)')]"
      ]
     },
     "execution_count": 61,
     "metadata": {},
     "output_type": "execute_result"
    }
   ],
   "source": [
    "print(gravity)\n",
    "get_topk_pearson_ratings(gravity)"
   ]
  },
  {
   "cell_type": "code",
   "execution_count": 63,
   "metadata": {},
   "outputs": [
    {
     "name": "stdout",
     "output_type": "stream",
     "text": [
      "59315\n"
     ]
    },
    {
     "name": "stderr",
     "output_type": "stream",
     "text": [
      "100%|██████████| 59047/59047 [01:05<00:00, 895.78it/s] \n"
     ]
    },
    {
     "data": {
      "text/plain": [
       "[(0.9999999999999947, 'Iron Man (2008)'),\n",
       " (0.3889511828327884, 'Avengers, The (2012)'),\n",
       " (0.38880895517115177, 'Iron Man 2 (2010)'),\n",
       " (0.3070222090675307, 'Iron Man 3 (2013)'),\n",
       " (0.27285387615386025, 'Batman Begins (2005)'),\n",
       " (0.26745868438611897, 'Captain America: The First Avenger (2011)'),\n",
       " (0.2654314855025813, 'Captain America: The Winter Soldier (2014)'),\n",
       " (0.26336453389397585, 'Star Trek (2009)'),\n",
       " (0.26291720661571566, 'Avengers: Age of Ultron (2015)'),\n",
       " (0.2567399273658855, 'Thor (2011)'),\n",
       " (0.24812905033329438, 'X-Men: First Class (2011)'),\n",
       " (0.24615682460732846, 'Guardians of the Galaxy (2014)'),\n",
       " (0.24400053318419038, 'Sherlock Holmes (2009)'),\n",
       " (0.24172358449210124, 'Spider-Man (2002)'),\n",
       " (0.2371753939110729, 'Dark Knight, The (2008)'),\n",
       " (0.2304455131275874, 'X-Men: Days of Future Past (2014)'),\n",
       " (0.22765953417955592, 'Dark Knight Rises, The (2012)'),\n",
       " (0.22683461504069075, 'X-Men (2000)'),\n",
       " (0.22659851427581307, 'Transformers (2007)'),\n",
       " (0.2225713136125041,\n",
       "  'Pirates of the Caribbean: The Curse of the Black Pearl (2003)')]"
      ]
     },
     "execution_count": 63,
     "metadata": {},
     "output_type": "execute_result"
    }
   ],
   "source": [
    "print(iron_man)\n",
    "get_topk_pearson_ratings(iron_man)"
   ]
  },
  {
   "cell_type": "code",
   "execution_count": null,
   "metadata": {},
   "outputs": [],
   "source": []
  }
 ],
 "metadata": {
  "kernelspec": {
   "display_name": "Python 3",
   "language": "python",
   "name": "python3"
  },
  "language_info": {
   "codemirror_mode": {
    "name": "ipython",
    "version": 3
   },
   "file_extension": ".py",
   "mimetype": "text/x-python",
   "name": "python",
   "nbconvert_exporter": "python",
   "pygments_lexer": "ipython3",
   "version": "3.11.6"
  }
 },
 "nbformat": 4,
 "nbformat_minor": 2
}
