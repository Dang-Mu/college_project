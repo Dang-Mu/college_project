{
 "cells": [
  {
   "cell_type": "code",
   "execution_count": 1,
   "metadata": {},
   "outputs": [
    {
     "name": "stdout",
     "output_type": "stream",
     "text": [
      "--2024-04-23 12:51:08--  https://files.grouplens.org/datasets/hetrec2011/hetrec2011-lastfm-2k.zip\n",
      "Resolving files.grouplens.org (files.grouplens.org)... 128.101.65.152\n",
      "Connecting to files.grouplens.org (files.grouplens.org)|128.101.65.152|:443... connected.\n",
      "HTTP request sent, awaiting response... 200 OK\n",
      "Length: 2589075 (2.5M) [application/zip]\n",
      "Saving to: ‘hetrec2011-lastfm-2k.zip’\n",
      "\n",
      "hetrec2011-lastfm-2 100%[===================>]   2.47M  1.68MB/s    in 1.5s    \n",
      "\n",
      "2024-04-23 12:51:11 (1.68 MB/s) - ‘hetrec2011-lastfm-2k.zip’ saved [2589075/2589075]\n",
      "\n",
      "Archive:  hetrec2011-lastfm-2k.zip\n",
      "  inflating: user_friends.dat        \n",
      "  inflating: user_taggedartists.dat  \n",
      "  inflating: user_taggedartists-timestamps.dat  \n",
      "  inflating: artists.dat             \n",
      "  inflating: readme.txt              \n",
      "  inflating: tags.dat                \n",
      "  inflating: user_artists.dat        \n"
     ]
    }
   ],
   "source": [
    "# !wget https://files.grouplens.org/datasets/hetrec2011/hetrec2011-lastfm-2k.zip\n",
    "# !unzip hetrec2011-lastfm-2k.zip"
   ]
  },
  {
   "cell_type": "code",
   "execution_count": 3,
   "metadata": {},
   "outputs": [
    {
     "name": "stdout",
     "output_type": "stream",
     "text": [
      "id\tname\turl\tpictureURL\n",
      "1\tMALICE MIZER\thttp://www.last.fm/music/MALICE+MIZER\thttp://userserve-ak.last.fm/serve/252/10808.jpg\n",
      "2\tDiary of Dreams\thttp://www.last.fm/music/Diary+of+Dreams\thttp://userserve-ak.last.fm/serve/252/3052066.jpg\n",
      "3\tCarpathian Forest\thttp://www.last.fm/music/Carpathian+Forest\thttp://userserve-ak.last.fm/serve/252/40222717.jpg\n",
      "4\tMoi dix Mois\thttp://www.last.fm/music/Moi+dix+Mois\thttp://userserve-ak.last.fm/serve/252/54697835.png\n",
      "5\tBella Morte\thttp://www.last.fm/music/Bella+Morte\thttp://userserve-ak.last.fm/serve/252/14789013.jpg\n",
      "6\tMoonspell\thttp://www.last.fm/music/Moonspell\thttp://userserve-ak.last.fm/serve/252/2181591.jpg\n",
      "7\tMarilyn Manson\thttp://www.last.fm/music/Marilyn+Manson\thttp://userserve-ak.last.fm/serve/252/2558217.jpg\n",
      "8\tDIR EN GREY\thttp://www.last.fm/music/DIR+EN+GREY\thttp://userserve-ak.last.fm/serve/252/46968835.png\n",
      "9\tCombichrist\thttp://www.last.fm/music/Combichrist\thttp://userserve-ak.last.fm/serve/252/51273485.jpg\n"
     ]
    }
   ],
   "source": [
    "!head artists.dat"
   ]
  },
  {
   "cell_type": "code",
   "execution_count": 5,
   "metadata": {},
   "outputs": [
    {
     "name": "stdout",
     "output_type": "stream",
     "text": [
      "id\tname\turl\tpictureURL\n",
      "\n"
     ]
    }
   ],
   "source": [
    "artists = {}\n",
    "\n",
    "with open(\"artists.dat\", \"r\") as f:\n",
    "    print(f.readline())\n",
    "    \n",
    "    for line in f:\n",
    "        id, name, _, _ = line.split('\\t')\n",
    "        artists[int(id)] = name"
   ]
  },
  {
   "cell_type": "code",
   "execution_count": 6,
   "metadata": {},
   "outputs": [
    {
     "name": "stdout",
     "output_type": "stream",
     "text": [
      "userID\tartistID\tweight\n",
      "2\t51\t13883\n",
      "2\t52\t11690\n",
      "2\t53\t11351\n",
      "2\t54\t10300\n",
      "2\t55\t8983\n",
      "2\t56\t6152\n",
      "2\t57\t5955\n",
      "2\t58\t4616\n",
      "2\t59\t4337\n"
     ]
    }
   ],
   "source": [
    "!head user_artists.dat"
   ]
  },
  {
   "cell_type": "code",
   "execution_count": null,
   "metadata": {},
   "outputs": [
    {
     "name": "stdout",
     "output_type": "stream",
     "text": [
      "userID\tartistID\tweight\n",
      "\n"
     ]
    }
   ],
   "source": [
    "import numpy as np\n",
    "\n",
    "users = []\n",
    "items = []\n",
    "weights = []\n",
    "\n",
    "with open(\"user_artists.dat\", \"r\") as f:\n",
    "    print(f.readline())\n",
    "\n",
    "    for line in f:\n",
    "        uid, aid, count = line.split('\\t')\n",
    "\n",
    "        users.append(int(uid))\n",
    "        items.append(int(aid))\n",
    "        weights.append(np.log(1+float(count)))\n",
    "\n",
    "users = np.array(users)\n",
    "items = np.array(items)\n",
    "weights = np.array(weights)"
   ]
  },
  {
   "cell_type": "code",
   "execution_count": 27,
   "metadata": {},
   "outputs": [
    {
     "name": "stderr",
     "output_type": "stream",
     "text": [
      "100%|██████████| 18746/18746 [00:43<00:00, 429.64it/s]\n"
     ]
    }
   ],
   "source": [
    "from scipy.sparse import csc_matrix\n",
    "from sklearn.linear_model import ElasticNet\n",
    "from tqdm import tqdm\n",
    "\n",
    "train = csc_matrix( (weights, (users, items)) )\n",
    "\n",
    "model = ElasticNet(alpha=0.1, l1_ratio=0.5, positive=True, fit_intercept=False, copy_X=False, selection='random', tol=1e-6, max_iter=100)\n",
    "\n",
    "rows = []\n",
    "cols = []\n",
    "data = []\n",
    "\n",
    "for current_item in tqdm(range(max(items) + 1)):\n",
    "\n",
    "    # 훈련할 값 (모든 row 값과 현재 item 번호에 해당하는 값들을 가져온다)\n",
    "    y = train[:, current_item].toarray()\n",
    "\n",
    "    # 만약 가져온 아이템이 전부 0이면 학습할 것이 없기 때문에 예외 (즉, 아이템에 어떤 평가도 존재하지 않음)\n",
    "    if all(y==0): continue\n",
    "\n",
    "    # 현재 item 값에 있는 값을 모두 0으로 만들어야 한다.\n",
    "    s = train.indptr[current_item]\n",
    "    e = train.indptr[current_item+1]\n",
    "    backup = train.data[s:e].copy()\n",
    "    train.data[s:e] = 0.0\n",
    "\n",
    "    model.fit(train, y)\n",
    "\n",
    "    rows.extend(model.sparse_coef_.indices)\n",
    "    cols.extend([current_item] * model.sparse_coef_.getnnz())\n",
    "    data.extend(model.sparse_coef_.data)\n",
    "    \n",
    "    train.data[s:e] = backup\n",
    "\n",
    "# W matrix 생성\n",
    "W = csc_matrix( (data, (rows, cols)), shape=(max(items) + 1, max(items) + 1) )"
   ]
  },
  {
   "cell_type": "code",
   "execution_count": 40,
   "metadata": {},
   "outputs": [
    {
     "name": "stdout",
     "output_type": "stream",
     "text": [
      "동방신기와 유사한 artists:\n",
      "소녀시대: 0.1077790560626788\n",
      "Super Junior: 0.09631992484775728\n",
      "BoA: 0.023375248033484612\n",
      "Brown Eyed Girls: 0.014559733566562752\n",
      "시크릿와 유사한 artists:\n",
      "4minute: 0.03359560033614966\n",
      "B2ST: 0.024008900514853267\n",
      "소녀시대: 0.018618586053677486\n",
      "BoA: 0.002119523751437404\n",
      "BoA와 유사한 artists:\n",
      "倖田來未: 0.23389080651709723\n",
      "2NE1: 0.188691589715216\n",
      "소녀시대: 0.17656141785217552\n",
      "SHINee: 0.10302762323104384\n",
      "SHINee와 유사한 artists:\n",
      "BIG BANG: 0.30146418608131753\n",
      "티아라: 0.2049095659014247\n",
      "U-KISS: 0.13088060613392763\n",
      "4minute: 0.09929500632584676\n"
     ]
    }
   ],
   "source": [
    "korea_artists = [1918, 2117, 2094, 1904]\n",
    "\n",
    "for artists_number in korea_artists:\n",
    "    s = W.indptr[artists_number]\n",
    "    e = W.indptr[artists_number+1]\n",
    "    \n",
    "    artists_ids = W.indices[s:e]\n",
    "    scores = W.data[s:e]\n",
    "\n",
    "    print(f\"{artists[artists_number]}와 유사한 artists:\")\n",
    "\n",
    "    for score, id in sorted(zip(scores, artists_ids), reverse=True)[:4]:\n",
    "        print(f\"{artists[id]}: {score}\")"
   ]
  },
  {
   "cell_type": "code",
   "execution_count": 48,
   "metadata": {},
   "outputs": [
    {
     "name": "stdout",
     "output_type": "stream",
     "text": [
      "312에게 추천할 artists:\n",
      "宇多田ヒカル: 3.6422403584852043\n",
      "SHINee: 2.969102873192674\n",
      "43에게 추천할 artists:\n"
     ]
    }
   ],
   "source": [
    "users = [312, 43]\n",
    "\n",
    "for uid in users:\n",
    "    userdata = train[uid, :].tocsr()\n",
    "\n",
    "    scores = userdata.dot(W)\n",
    "\n",
    "    order = scores.data.argsort()[::-1]\n",
    "\n",
    "    print(f\"{uid}에게 추천할 artists:\")\n",
    "    for score, id in sorted(zip(scores.data, scores.indices), reverse=True)[:10]:\n",
    "        if id not in userdata.indices:\n",
    "            print(f\"{artists[id]}: {score}\")"
   ]
  },
  {
   "cell_type": "code",
   "execution_count": null,
   "metadata": {},
   "outputs": [],
   "source": []
  }
 ],
 "metadata": {
  "kernelspec": {
   "display_name": "Python 3",
   "language": "python",
   "name": "python3"
  },
  "language_info": {
   "codemirror_mode": {
    "name": "ipython",
    "version": 3
   },
   "file_extension": ".py",
   "mimetype": "text/x-python",
   "name": "python",
   "nbconvert_exporter": "python",
   "pygments_lexer": "ipython3",
   "version": "3.9.18"
  }
 },
 "nbformat": 4,
 "nbformat_minor": 2
}
