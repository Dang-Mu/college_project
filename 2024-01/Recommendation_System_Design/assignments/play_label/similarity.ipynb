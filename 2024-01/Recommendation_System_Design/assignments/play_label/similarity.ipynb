{
 "cells": [
  {
   "cell_type": "code",
   "execution_count": 1,
   "metadata": {},
   "outputs": [],
   "source": [
    "import pandas as pd\n",
    "from sklearn.metrics.pairwise import cosine_similarity"
   ]
  },
  {
   "cell_type": "code",
   "execution_count": 31,
   "metadata": {},
   "outputs": [],
   "source": [
    "# CSV 파일 읽기\n",
    "file_a = pd.read_csv('fifteen_coin.csv')\n",
    "file_b = pd.read_csv('ten_coin.csv')"
   ]
  },
  {
   "cell_type": "code",
   "execution_count": 32,
   "metadata": {},
   "outputs": [],
   "source": [
    "# 비교할 열 이름 지정 (예: 'column_name')\n",
    "column_name = 'Label'\n",
    "\n",
    "# 열 데이터 추출\n",
    "data_a = file_a[column_name].values.reshape(1, -1)\n",
    "data_b = file_b[column_name].values.reshape(1, -1)"
   ]
  },
  {
   "cell_type": "code",
   "execution_count": 33,
   "metadata": {},
   "outputs": [
    {
     "name": "stdout",
     "output_type": "stream",
     "text": [
      "코사인 유사도: 0.7081108292685717\n"
     ]
    }
   ],
   "source": [
    "# 코사인 유사도 계산\n",
    "similarity = cosine_similarity(data_a, data_b)\n",
    "\n",
    "# 유사도 출력\n",
    "similarity_score = similarity[0][0]\n",
    "print(f\"코사인 유사도: {similarity_score}\")"
   ]
  },
  {
   "cell_type": "code",
   "execution_count": 34,
   "metadata": {},
   "outputs": [
    {
     "data": {
      "text/plain": [
       "60.571057105710565"
      ]
     },
     "execution_count": 34,
     "metadata": {},
     "output_type": "execute_result"
    }
   ],
   "source": [
    "rate = 0\n",
    "for i in data_a[0]:\n",
    "    rate += i\n",
    "\n",
    "score = rate / len(data_a[0]) * 100\n",
    "score"
   ]
  },
  {
   "cell_type": "code",
   "execution_count": null,
   "metadata": {},
   "outputs": [],
   "source": []
  }
 ],
 "metadata": {
  "kernelspec": {
   "display_name": "Python 3",
   "language": "python",
   "name": "python3"
  },
  "language_info": {
   "codemirror_mode": {
    "name": "ipython",
    "version": 3
   },
   "file_extension": ".py",
   "mimetype": "text/x-python",
   "name": "python",
   "nbconvert_exporter": "python",
   "pygments_lexer": "ipython3",
   "version": "3.12.0"
  }
 },
 "nbformat": 4,
 "nbformat_minor": 2
}
