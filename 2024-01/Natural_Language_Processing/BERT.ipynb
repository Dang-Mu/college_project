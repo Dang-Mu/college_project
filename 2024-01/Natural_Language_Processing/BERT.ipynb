{
  "nbformat": 4,
  "nbformat_minor": 0,
  "metadata": {
    "colab": {
      "provenance": [],
      "gpuType": "T4"
    },
    "kernelspec": {
      "name": "python3",
      "display_name": "Python 3"
    },
    "language_info": {
      "name": "python"
    },
    "accelerator": "GPU"
  },
  "cells": [
    {
      "cell_type": "code",
      "execution_count": 15,
      "metadata": {
        "id": "N0fg1flqTshs"
      },
      "outputs": [],
      "source": [
        "import torch\n",
        "import torch.nn as nn\n",
        "from transformers import BertModel, BertTokenizer\n",
        "from torch.optim import Adam\n",
        "from torch.utils.data import DataLoader, Dataset\n",
        "import pathlib as Path\n",
        "import pandas as pd\n",
        "from tqdm import tqdm\n",
        "from torch.nn import BCEWithLogitsLoss\n",
        "import datetime\n",
        "\n",
        "\n",
        "\n",
        "from sklearn.metrics import confusion_matrix\n",
        "import seaborn as sns\n",
        "import matplotlib.pyplot as plt\n",
        "\n",
        "#importing dataset labels encoder\n",
        "from sklearn.preprocessing import LabelEncoder\n",
        "from sklearn.preprocessing import OneHotEncoder"
      ]
    },
    {
      "cell_type": "code",
      "source": [
        "class TextDataset(Dataset):\n",
        "    def __init__(self, texts, labels, tokenizer, max_length):\n",
        "        self.texts = texts\n",
        "        self.labels = labels\n",
        "        self.tokenizer = tokenizer\n",
        "        self.max_length = max_length\n",
        "\n",
        "    def __len__(self):\n",
        "        return len(self.texts)\n",
        "\n",
        "    def __getitem__(self, idx):\n",
        "        text = self.texts[idx]\n",
        "        label = self.labels[idx]\n",
        "\n",
        "        encoding = self.tokenizer.encode_plus(\n",
        "            text,\n",
        "            add_special_tokens=True,\n",
        "            max_length=self.max_length,\n",
        "            return_token_type_ids=False,\n",
        "            padding='max_length',\n",
        "            return_attention_mask=True,\n",
        "            return_tensors='pt',\n",
        "            truncation=True\n",
        "        )\n",
        "\n",
        "        return {\n",
        "            'input_ids': encoding['input_ids'].flatten(),\n",
        "            'attention_mask': encoding['attention_mask'].flatten(),\n",
        "            'labels': torch.tensor(label, dtype=torch.float)\n",
        "        }"
      ],
      "metadata": {
        "id": "sJi_bHHzTwfh"
      },
      "execution_count": 16,
      "outputs": []
    },
    {
      "cell_type": "code",
      "source": [
        "# Example Model Customization\n",
        "class CustomBERTClassifier(nn.Module):\n",
        "    def __init__(self, num_classes):\n",
        "        super(CustomBERTClassifier, self).__init__()\n",
        "        # Loading pre-implemented BERT model\n",
        "        self.bert = BertModel.from_pretrained(\"bert-base-uncased\")\n",
        "        # Custom additional layers\n",
        "        self.fc1 = nn.Linear(self.bert.config.hidden_size, 128)\n",
        "        self.relu = nn.ReLU()\n",
        "        self.fc2 = nn.Linear(128, num_classes)\n",
        "        self.softmax = nn.Softmax(dim=1)\n",
        "\n",
        "    def forward(self, input_ids, attention_mask):\n",
        "        # BERT model\n",
        "        bert_outputs = self.bert(input_ids=input_ids, attention_mask=attention_mask)\n",
        "        # Extracting CLS token representation\n",
        "        cls_output = bert_outputs[\"last_hidden_state\"][:, 0, :]\n",
        "        # Custom layers\n",
        "        x = self.fc1(cls_output)\n",
        "        x = self.relu(x)\n",
        "        x = self.fc2(x)\n",
        "        x = self.softmax(x)\n",
        "        return x\n",
        "\n",
        "model = CustomBERTClassifier(num_classes=2)\n",
        "tokenizer = BertTokenizer.from_pretrained(\"google-bert/bert-base-uncased\")"
      ],
      "metadata": {
        "id": "Smpbpvw1Tz9N"
      },
      "execution_count": 17,
      "outputs": []
    },
    {
      "cell_type": "code",
      "source": [
        "train = pd.read_csv('train.csv',encoding='latin1')\n",
        "test = pd.read_csv('test.csv',encoding='latin1')\n",
        "\n",
        "train = train[['text','sentiment']]\n",
        "test = test[['text','sentiment']]\n",
        "\n",
        "train['text'].fillna('',inplace=True)\n",
        "test['text'].fillna('',inplace=True)\n",
        "print(train.shape, test.shape)\n",
        "\n",
        "train = train[train.sentiment != \"neutral\"]\n",
        "test = test[test.sentiment != \"neutral\"]\n",
        "train = train.dropna(subset=['sentiment'])\n",
        "test = test.dropna(subset=['sentiment'])\n",
        "\n",
        "def func(sentiment):\n",
        "    if sentiment =='positive':\n",
        "        return 0\n",
        "    else: return 1\n",
        "train['sentiment'] = train['sentiment'].apply(func)\n",
        "test['sentiment'] = test['sentiment'].apply(func)\n",
        "print(train.shape, test.shape)"
      ],
      "metadata": {
        "colab": {
          "base_uri": "https://localhost:8080/"
        },
        "id": "v_aCQaExT0Y3",
        "outputId": "0a630361-aed3-44da-ada4-de9ec6b5d48e"
      },
      "execution_count": 18,
      "outputs": [
        {
          "output_type": "stream",
          "name": "stdout",
          "text": [
            "(27481, 2) (4815, 2)\n",
            "(16363, 2) (2104, 2)\n"
          ]
        }
      ]
    },
    {
      "cell_type": "code",
      "source": [
        "train = train.reset_index(drop=True)\n",
        "test = test.reset_index(drop=True)"
      ],
      "metadata": {
        "id": "ZOkFqtMIXz4t"
      },
      "execution_count": 19,
      "outputs": []
    },
    {
      "cell_type": "code",
      "source": [
        "# Encoding labels\n",
        "le = LabelEncoder()\n",
        "train['labels'] = le.fit_transform(train['sentiment'])\n",
        "test['labels'] = le.fit_transform(test['sentiment'])\n",
        "\n",
        "# Dropping unnecessary columns\n",
        "train = train[['text', 'labels']]\n",
        "test = test[['text', 'labels']]"
      ],
      "metadata": {
        "id": "U_oUZu8VT-4J"
      },
      "execution_count": 20,
      "outputs": []
    },
    {
      "cell_type": "code",
      "source": [
        "# One hot encoding\n",
        "one_hot = OneHotEncoder()\n",
        "train['labels'] = one_hot.fit_transform(train[['labels']]).toarray().tolist()\n",
        "test['labels'] = one_hot.fit_transform(test[['labels']]).toarray().tolist()\n",
        "\n",
        "# Dataset creation and DataLoader\n",
        "triain_texts = train['text'].tolist()\n",
        "test_texts = test['text'].tolist()"
      ],
      "metadata": {
        "id": "bP_F0MjaT_WU"
      },
      "execution_count": 21,
      "outputs": []
    },
    {
      "cell_type": "code",
      "source": [
        "max_length = 256\n",
        "train_dataset = TextDataset(triain_texts, train['labels'], tokenizer, max_length)\n",
        "test_dataset = TextDataset(test_texts, test['labels'], tokenizer, max_length)\n",
        "\n",
        "train_loader = DataLoader(train_dataset, batch_size=32, shuffle=True)\n",
        "test_loader = DataLoader(test_dataset, batch_size=32, shuffle=True)"
      ],
      "metadata": {
        "id": "gihifcyxUB2A"
      },
      "execution_count": 22,
      "outputs": []
    },
    {
      "cell_type": "code",
      "source": [
        "def train_model(model, epoch, num_epochs, train_dataloader, optimizer, criterion, device):\n",
        "    model.train()\n",
        "    total_loss = 0\n",
        "\n",
        "    # Initialize tqdm to show progress bar\n",
        "    loop = tqdm(enumerate(train_dataloader), total=len(train_dataloader), leave=True)\n",
        "\n",
        "    for batch_idx, batch in loop:\n",
        "        input_ids = batch['input_ids'].to(device)\n",
        "        attention_mask = batch['attention_mask'].to(device)\n",
        "        labels = batch['labels'].to(device)\n",
        "\n",
        "        optimizer.zero_grad()\n",
        "        outputs = model(input_ids, attention_mask)\n",
        "        loss = criterion(outputs, labels)\n",
        "\n",
        "        loss.backward()\n",
        "        optimizer.step()\n",
        "\n",
        "        total_loss += loss.item()\n",
        "\n",
        "        # Update progress bar\n",
        "        loop.set_description(f\"Epoch {epoch+1}/{num_epochs}\")\n",
        "        loop.set_postfix(loss=loss.item())\n",
        "\n",
        "    avg_loss = total_loss / len(train_dataloader)\n",
        "    return avg_loss"
      ],
      "metadata": {
        "id": "Z1whZS4KUCRJ"
      },
      "execution_count": 23,
      "outputs": []
    },
    {
      "cell_type": "code",
      "source": [
        "def test(model, test_dataloader, criterion, device):\n",
        "    model.eval()\n",
        "    total_loss = 0\n",
        "\n",
        "    # Initialize tqdm to show progress bar\n",
        "    loop = tqdm(enumerate(test_dataloader), total=len(test_dataloader), leave=True)\n",
        "\n",
        "    for batch_idx, batch in loop:\n",
        "        input_ids = batch['input_ids'].to(device)\n",
        "        attention_mask = batch['attention_mask'].to(device)\n",
        "        labels = batch['labels'].to(device)\n",
        "\n",
        "        with torch.no_grad():\n",
        "            outputs = model(input_ids, attention_mask)\n",
        "            loss = criterion(outputs, labels)\n",
        "\n",
        "            total_loss += loss.item()\n",
        "\n",
        "            # Update progress bar\n",
        "            loop.set_description(f\"Test\")\n",
        "            loop.set_postfix(loss=loss.item())\n",
        "\n",
        "    avg_loss = total_loss / len(test_dataloader)\n",
        "    return avg_loss"
      ],
      "metadata": {
        "id": "vhXhQvKhUElE"
      },
      "execution_count": 24,
      "outputs": []
    },
    {
      "cell_type": "code",
      "source": [
        "# Checking if GPU is available\n",
        "device = torch.device(\"cuda\" if torch.cuda.is_available() else \"cpu\")\n",
        "if device.type != \"cuda\":\n",
        "    raise Exception(\"=== GPU not found ===\")\n",
        "\n",
        "# Model, optimizer, criterion initialization\n",
        "optimizer = Adam(model.parameters(), lr=1e-5)\n",
        "criterion = BCEWithLogitsLoss()\n",
        "num_epochs = 1\n",
        "\n",
        "model.to(device)\n",
        "# Training loop\n",
        "for epoch in range(num_epochs):\n",
        "    loss = train_model(model, epoch, num_epochs, train_loader, optimizer, criterion, device)\n",
        "    print(f\"Epoch: {epoch+1}, Loss: {loss:.4f}\")"
      ],
      "metadata": {
        "colab": {
          "base_uri": "https://localhost:8080/"
        },
        "id": "pUaHnO0lUGLD",
        "outputId": "fd6b6164-32e6-427a-f6dd-d9f8c7083797"
      },
      "execution_count": 25,
      "outputs": [
        {
          "output_type": "stream",
          "name": "stderr",
          "text": [
            "Epoch 1/1: 100%|██████████| 512/512 [10:55<00:00,  1.28s/it, loss=0.516]"
          ]
        },
        {
          "output_type": "stream",
          "name": "stdout",
          "text": [
            "Epoch: 1, Loss: 0.5630\n"
          ]
        },
        {
          "output_type": "stream",
          "name": "stderr",
          "text": [
            "\n"
          ]
        }
      ]
    },
    {
      "cell_type": "code",
      "source": [
        "# EVALUATION\n",
        "test_loss = test(model, test_loader, criterion, device)\n",
        "\n",
        "# if test_loss < 1.0:\n",
        "#     date_time = datetime.datetime.now().strftime(\"%Y-%m-%d_%H%M\")\n",
        "#     file_name = f\"model_checkpoint_{date_time}_loss{test_loss:.3f}.pth\"\n",
        "#     torch.save({\n",
        "#         'epoch' : num_epochs,\n",
        "#         'model_state_dict' : model.state_dict(),\n",
        "#         'optimizer_state_dict' : optimizer.state_dict(),\n",
        "#         'loss' : test_loss,\n",
        "#         }, file_name)\n",
        "#     print('Model saved')"
      ],
      "metadata": {
        "colab": {
          "base_uri": "https://localhost:8080/"
        },
        "id": "-ahARNdcUHaV",
        "outputId": "3f46e07a-acdb-4294-b371-c05c3f8c8ffb"
      },
      "execution_count": 31,
      "outputs": [
        {
          "output_type": "stream",
          "name": "stderr",
          "text": [
            "Test: 100%|██████████| 66/66 [00:30<00:00,  2.19it/s, loss=0.57]\n"
          ]
        }
      ]
    },
    {
      "cell_type": "code",
      "source": [
        "# Finding Accuracy\n",
        "def get_predictions(model, data_loader):\n",
        "    model = model.eval()\n",
        "    predictions = []\n",
        "    real_values = []\n",
        "    with torch.no_grad():\n",
        "        for batch in data_loader:\n",
        "            input_ids = batch['input_ids'].to(device)\n",
        "            attention_mask = batch['attention_mask'].to(device)\n",
        "            labels = batch['labels'].to(device)\n",
        "\n",
        "            outputs = model(input_ids, attention_mask)\n",
        "            outputs = torch.sigmoid(outputs)\n",
        "            predictions.append(outputs)\n",
        "            real_values.append(labels)\n",
        "    predictions = torch.cat(predictions).cpu()\n",
        "    real_values = torch.cat(real_values).cpu()\n",
        "    return predictions, real_values\n",
        "\n",
        "y_pred, y_test = get_predictions(model, test_loader)\n",
        "\n",
        "# Converting y_pred to one hot encoded data\n",
        "y_pred = torch.argmax(y_pred, dim=1)\n",
        "\n",
        "# Converting y_test to one hot encoded data tensor\n",
        "y_pred = torch.tensor(one_hot.fit_transform(y_pred.reshape(-1, 1)).toarray().tolist())"
      ],
      "metadata": {
        "id": "CRPfMojda-OH"
      },
      "execution_count": 36,
      "outputs": []
    },
    {
      "cell_type": "code",
      "source": [
        "y_pred = torch.argmax(y_pred, axis=1).numpy()\n",
        "y_test = torch.argmax(y_test, axis=1).numpy()"
      ],
      "metadata": {
        "id": "wfCJBIcfbGFo"
      },
      "execution_count": 37,
      "outputs": []
    },
    {
      "cell_type": "code",
      "source": [
        "# Generate confusion matrix\n",
        "conf_mat = confusion_matrix(y_test, y_pred)\n",
        "print(len(test_loader))\n",
        "# Plotting the confusion matrix using seaborn\n",
        "plt.figure(figsize=(4,3))\n",
        "sns.set(font_scale=1) # for label size\n",
        "sns.heatmap(conf_mat, annot=True, annot_kws={\"size\": 10}, fmt='g') # fmt='g' to display numbers as integers\n",
        "plt.xlabel('Predicted')\n",
        "plt.ylabel('True')\n",
        "plt.show()"
      ],
      "metadata": {
        "colab": {
          "base_uri": "https://localhost:8080/",
          "height": 337
        },
        "id": "OfQHw90VbQi_",
        "outputId": "945099fa-d5ff-46e5-e0b2-facbf3ffea78"
      },
      "execution_count": 38,
      "outputs": [
        {
          "output_type": "stream",
          "name": "stdout",
          "text": [
            "66\n"
          ]
        },
        {
          "output_type": "display_data",
          "data": {
            "text/plain": [
              "<Figure size 400x300 with 2 Axes>"
            ],
            "image/png": "[encoded data removed]"
          },
          "metadata": {}
        }
      ]
    },
    {
      "cell_type": "code",
      "source": [],
      "metadata": {
        "id": "hxZSvyGacO04"
      },
      "execution_count": null,
      "outputs": []
    }
  ]
}