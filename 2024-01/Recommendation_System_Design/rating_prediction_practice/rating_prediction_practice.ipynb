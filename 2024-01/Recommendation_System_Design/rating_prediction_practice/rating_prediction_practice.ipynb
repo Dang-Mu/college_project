{
 "cells": [
  {
   "cell_type": "code",
   "execution_count": 1,
   "metadata": {},
   "outputs": [
    {
     "name": "stdout",
     "output_type": "stream",
     "text": [
      "--2024-04-15 18:02:54--  https://files.grouplens.org/datasets/movielens/ml-25m.zip\n",
      "Resolving files.grouplens.org (files.grouplens.org)... 128.101.65.152\n",
      "Connecting to files.grouplens.org (files.grouplens.org)|128.101.65.152|:443... connected.\n",
      "HTTP request sent, awaiting response... 200 OK\n",
      "Length: 261978986 (250M) [application/zip]\n",
      "Saving to: ‘ml-25m.zip’\n",
      "\n",
      "ml-25m.zip          100%[===================>] 249.84M  13.2MB/s    in 20s     \n",
      "\n",
      "2024-04-15 18:03:16 (12.4 MB/s) - ‘ml-25m.zip’ saved [261978986/261978986]\n",
      "\n",
      "Archive:  ml-25m.zip\n",
      "   creating: ml-25m/\n",
      "  inflating: ml-25m/tags.csv         \n",
      "  inflating: ml-25m/links.csv        \n",
      "  inflating: ml-25m/README.txt       \n",
      "  inflating: ml-25m/ratings.csv      \n",
      "  inflating: ml-25m/genome-tags.csv  \n",
      "  inflating: ml-25m/genome-scores.csv  \n",
      "  inflating: ml-25m/movies.csv       \n"
     ]
    }
   ],
   "source": [
    "# !wget https://files.grouplens.org/datasets/movielens/ml-25m.zip\n",
    "# !unzip ml-25m.zip"
   ]
  },
  {
   "cell_type": "code",
   "execution_count": 2,
   "metadata": {},
   "outputs": [
    {
     "name": "stdout",
     "output_type": "stream",
     "text": [
      "userId,movieId,rating,timestamp\n",
      "1,296,5.0,1147880044\n",
      "1,306,3.5,1147868817\n",
      "1,307,5.0,1147868828\n",
      "1,665,5.0,1147878820\n",
      "1,899,3.5,1147868510\n",
      "1,1088,4.0,1147868495\n",
      "1,1175,3.5,1147868826\n",
      "1,1217,3.5,1147878326\n",
      "1,1237,5.0,1147868839\n"
     ]
    }
   ],
   "source": [
    "# !head ml-25m/ratings.csv"
   ]
  },
  {
   "cell_type": "code",
   "execution_count": 4,
   "metadata": {},
   "outputs": [
    {
     "name": "stdout",
     "output_type": "stream",
     "text": [
      "userId,movieId,rating,timestamp\n",
      "\n"
     ]
    }
   ],
   "source": [
    "import numpy as np\n",
    "\n",
    "with open(\"ml-25m/ratings.csv\", \"r\") as f:\n",
    "    print(f.readline())\n",
    "\n",
    "    users = []\n",
    "    movies = []\n",
    "    ratings = []\n",
    "\n",
    "    for line in f:\n",
    "        uid, mid, rating, _ = line.split(\",\")\n",
    "        users.append(int(uid))\n",
    "        movies.append(int(mid))\n",
    "        ratings.append(float(rating))\n",
    "    \n",
    "    users = np.array(users)\n",
    "    movies = np.array(movies)\n",
    "    ratings = np.array(ratings)"
   ]
  },
  {
   "cell_type": "code",
   "execution_count": 7,
   "metadata": {},
   "outputs": [
    {
     "data": {
      "text/plain": [
       "1.0607439399275531"
      ]
     },
     "execution_count": 7,
     "metadata": {},
     "output_type": "execute_result"
    }
   ],
   "source": [
    "# 예측 값\n",
    "alpha = ratings.mean()\n",
    "\n",
    "# 배열에서 상수 값을 빼게 되면, 각 배열 값마다 상수 값을 빼주게 된다.\n",
    "rmse = ((ratings - alpha) ** 2).mean() ** 0.5\n",
    "rmse"
   ]
  },
  {
   "cell_type": "code",
   "execution_count": 8,
   "metadata": {},
   "outputs": [],
   "source": [
    "user_bias = np.zeros(users.max() + 1)\n",
    "movie_bias = np.zeros(movies.max() + 1)"
   ]
  },
  {
   "cell_type": "code",
   "execution_count": 13,
   "metadata": {},
   "outputs": [
    {
     "name": "stdout",
     "output_type": "stream",
     "text": [
      "epoch: 0, rmes: 1.0500697217574777\n",
      "epoch: 10, rmes: 1.0491422633554863\n",
      "epoch: 20, rmes: 1.0482365844497037\n",
      "epoch: 30, rmes: 1.0473518959003612\n",
      "epoch: 40, rmes: 1.0464874427776174\n",
      "epoch: 50, rmes: 1.045642502744145\n",
      "epoch: 60, rmes: 1.044816384516842\n",
      "epoch: 70, rmes: 1.0440084264038854\n",
      "epoch: 80, rmes: 1.0432179949134248\n",
      "epoch: 90, rmes: 1.0424444834304643\n",
      "epoch: 99, rmes: 1.0416873109585632\n"
     ]
    }
   ],
   "source": [
    "\n",
    "lr = 1\n",
    "lmd = 0.001\n",
    "\n",
    "n_ratings = len(ratings)\n",
    "n_users = len(users)\n",
    "n_movies = len(movies)\n",
    "\n",
    "for epoch in range(100):\n",
    "    h = alpha + user_bias[users] + movie_bias[movies]\n",
    "    diff = h - ratings\n",
    "\n",
    "    # evaluation\n",
    "    rmes = (diff ** 2).mean() ** 0.5\n",
    "    if epoch%10 == 0:\n",
    "        print(f\"epoch: {epoch}, rmes: {rmes}\")\n",
    "\n",
    "    # Gradient Descent\n",
    "    grd_alpha = diff.mean()\n",
    "    grd_user_bias = np.bincount(users, weights=diff)/n_users + lmd * user_bias/n_users\n",
    "    grd_movie_bias = np.bincount(movies, weights=diff)/n_movies + lmd * movie_bias/n_movies\n",
    "\n",
    "    # update\n",
    "    alpha = alpha - lr * grd_alpha\n",
    "    user_bias = user_bias - lr * grd_user_bias\n",
    "    movie_bias = movie_bias - lr * grd_movie_bias\n",
    "\n",
    "h = alpha + user_bias[users] + movie_bias[movies]\n",
    "diff = h - ratings\n",
    "\n",
    "rmes = (diff ** 2).mean() ** 0.5\n",
    "print(f\"epoch: {epoch}, rmes: {rmes}\")"
   ]
  },
  {
   "cell_type": "code",
   "execution_count": 19,
   "metadata": {},
   "outputs": [
    {
     "name": "stdout",
     "output_type": "stream",
     "text": [
      "epoch: 0, rmse: 1.0607439399275533\n",
      "epoch: 10, rmse: 1.0583792494820634\n",
      "epoch: 20, rmse: 1.056137807615803\n",
      "epoch: 30, rmse: 1.0540102929190227\n",
      "epoch: 40, rmse: 1.0519882175370794\n",
      "epoch: 50, rmse: 1.0500638241837847\n",
      "epoch: 60, rmse: 1.048230026362517\n",
      "epoch: 70, rmse: 1.0464803395411784\n",
      "epoch: 80, rmse: 1.0448088417849521\n",
      "epoch: 90, rmse: 1.0432100976233305\n"
     ]
    }
   ],
   "source": [
    "import torch\n",
    "\n",
    "ratings_tensor = torch.from_numpy(ratings)\n",
    "\n",
    "alpha = torch.tensor(ratings.mean())\n",
    "alpha.requires_grad_(True)\n",
    "user_bias = torch.zeros(users.max() + 1, requires_grad=True)\n",
    "movie_bias = torch.zeros(movies.max() + 1, requires_grad=True)\n",
    "\n",
    "optim = torch.optim.SGD([alpha, user_bias, movie_bias], lr=1)\n",
    "\n",
    "lmd = 0.001\n",
    "\n",
    "for epoch in range(100):\n",
    "    h = alpha + user_bias[users] + movie_bias[movies]\n",
    "    mse = ((h - ratings_tensor) ** 2).mean()\n",
    "    reg = lmd * ((movie_bias ** 2).mean() + (user_bias ** 2).mean())\n",
    "    cost = mse + reg\n",
    "\n",
    "    optim.zero_grad()\n",
    "    cost.backward()\n",
    "    optim.step()\n",
    "\n",
    "    with torch.no_grad():\n",
    "        rmse = ((h - ratings_tensor) ** 2).mean() ** 0.5\n",
    "        if epoch%10 == 0:\n",
    "            print(f\"epoch: {epoch}, rmse: {rmse}\")\n",
    "\n",
    "rmse = ((h - ratings_tensor) ** 2).mean() ** 0.5\n",
    "if epoch%10 == 0:\n",
    "    print(f\"epoch: {epoch}, rmse: {rmse}\")"
   ]
  },
  {
   "cell_type": "code",
   "execution_count": 26,
   "metadata": {},
   "outputs": [
    {
     "name": "stdout",
     "output_type": "stream",
     "text": [
      "epoch: 0, rmse: 1.0607439399275531\n",
      "epoch: 1, rmse: 0.8663159834756426\n",
      "epoch: 2, rmse: 0.8510867185839471\n",
      "epoch: 3, rmse: 0.8503568292676987\n",
      "epoch: 4, rmse: 0.8503078899843288\n",
      "epoch: 5, rmse: 0.8503025377563744\n",
      "epoch: 6, rmse: 0.8503016450633218\n",
      "epoch: 7, rmse: 0.8503014646716495\n",
      "epoch: 8, rmse: 0.8503014258804191\n",
      "epoch: 9, rmse: 0.8503014173907169\n",
      "final rmse: 0.8503014155289849\n"
     ]
    }
   ],
   "source": [
    "lmd = 0.001\n",
    "\n",
    "alpha = ratings.mean()\n",
    "user_bias = np.zeros(users.max() + 1)\n",
    "movie_bias = np.zeros(movies.max() + 1)\n",
    "\n",
    "for epoch in range(10):\n",
    "    h = alpha + user_bias[users] + movie_bias[movies]\n",
    "    rmse = ((h - ratings) ** 2).mean() ** 0.5\n",
    "    print(f\"epoch: {epoch}, rmse: {rmse}\")\n",
    "\n",
    "    alpha = (ratings - (user_bias[users] + movie_bias[movies])).mean()\n",
    "    user_bias = np.bincount(users, weights=(ratings - (alpha + movie_bias[movies]))) / (np.bincount(users) + lmd)\n",
    "    movie_bias = np.bincount(movies, weights=(ratings - (alpha + user_bias[users]))) / (np.bincount(movies) + lmd)\n",
    "\n",
    "h = alpha + user_bias[users] + movie_bias[movies]\n",
    "rmse = ((h - ratings) ** 2).mean() ** 0.5\n",
    "print(f\"final rmse: {rmse}\")"
   ]
  },
  {
   "cell_type": "code",
   "execution_count": null,
   "metadata": {},
   "outputs": [],
   "source": []
  }
 ],
 "metadata": {
  "kernelspec": {
   "display_name": "Python 3",
   "language": "python",
   "name": "python3"
  },
  "language_info": {
   "codemirror_mode": {
    "name": "ipython",
    "version": 3
   },
   "file_extension": ".py",
   "mimetype": "text/x-python",
   "name": "python",
   "nbconvert_exporter": "python",
   "pygments_lexer": "ipython3",
   "version": "3.12.0"
  }
 },
 "nbformat": 4,
 "nbformat_minor": 2
}
