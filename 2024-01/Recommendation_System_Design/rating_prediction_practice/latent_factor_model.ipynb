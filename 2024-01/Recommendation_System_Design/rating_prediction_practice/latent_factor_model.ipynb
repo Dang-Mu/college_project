{
 "cells": [
  {
   "cell_type": "code",
   "execution_count": null,
   "metadata": {},
   "outputs": [
    {
     "name": "stdout",
     "output_type": "stream",
     "text": [
      "--2024-04-16 19:08:00--  https://files.grouplens.org/datasets/movielens/ml-latest-small.zip\n",
      "Resolving files.grouplens.org (files.grouplens.org)... 128.101.65.152\n",
      "Connecting to files.grouplens.org (files.grouplens.org)|128.101.65.152|:443... connected.\n",
      "HTTP request sent, awaiting response... 200 OK\n",
      "Length: 978202 (955K) [application/zip]\n",
      "Saving to: ‘ml-latest-small.zip’\n",
      "\n",
      "ml-latest-small.zip 100%[===================>] 955.28K   988KB/s    in 1.0s    \n",
      "\n",
      "2024-04-16 19:08:03 (988 KB/s) - ‘ml-latest-small.zip’ saved [978202/978202]\n",
      "\n",
      "Archive:  ml-latest-small.zip\n",
      "   creating: ml-latest-small/\n",
      "  inflating: ml-latest-small/links.csv  \n",
      "  inflating: ml-latest-small/tags.csv  \n",
      "  inflating: ml-latest-small/ratings.csv  \n",
      "  inflating: ml-latest-small/README.txt  \n",
      "  inflating: ml-latest-small/movies.csv  \n"
     ]
    }
   ],
   "source": [
    "# !wget https://files.grouplens.org/datasets/movielens/ml-latest-small.zip\n",
    "# !unzip ml-latest-small.zip"
   ]
  },
  {
   "cell_type": "code",
   "execution_count": 1,
   "metadata": {},
   "outputs": [
    {
     "name": "stdout",
     "output_type": "stream",
     "text": [
      "userId,movieId,rating,timestamp\n",
      "\n"
     ]
    }
   ],
   "source": [
    "import numpy as np\n",
    "\n",
    "users = []\n",
    "movies = []\n",
    "ratings = []\n",
    "\n",
    "with open(\"ml-latest-small/ratings.csv\", \"r\") as f:\n",
    "    print(f.readline())\n",
    "\n",
    "    for line in f:\n",
    "        uid, mid, rating, _ = line.split(\",\")\n",
    "        users.append(int(uid))\n",
    "        movies.append(int(mid))\n",
    "        ratings.append(float(rating))\n",
    "\n",
    "users = np.array(users)\n",
    "movies = np.array(movies)\n",
    "ratings = np.array(ratings)"
   ]
  },
  {
   "cell_type": "code",
   "execution_count": 2,
   "metadata": {},
   "outputs": [],
   "source": [
    "rank = 10\n",
    "lr = 0.1\n",
    "lmd = 0.001"
   ]
  },
  {
   "cell_type": "code",
   "execution_count": 3,
   "metadata": {},
   "outputs": [],
   "source": [
    "alpha = ratings.mean()\n",
    "user_bias = np.zeros(users.max() + 1)\n",
    "movie_bias = np.zeros(movies.max() + 1)\n",
    "user_reps = np.random.randn(users.max() + 1, rank)\n",
    "movie_reps = np.random.randn(movies.max() + 1, rank)"
   ]
  },
  {
   "cell_type": "code",
   "execution_count": 4,
   "metadata": {},
   "outputs": [
    {
     "name": "stdout",
     "output_type": "stream",
     "text": [
      "epoch: 0, rmse: 3.291827339705382\n",
      "epoch: 1, rmse: 1.14157228441919\n",
      "epoch: 2, rmse: 1.0301441900581474\n",
      "epoch: 3, rmse: 0.9850881013439668\n",
      "epoch: 4, rmse: 0.9616059402000787\n",
      "epoch: 5, rmse: 0.9479119124925233\n",
      "epoch: 6, rmse: 0.9374234102014337\n",
      "epoch: 7, rmse: 0.9279278454881971\n",
      "epoch: 8, rmse: 0.9196263595166057\n",
      "epoch: 9, rmse: 0.9131980798930296\n"
     ]
    }
   ],
   "source": [
    "for epoch in range(10):\n",
    "    \n",
    "    h = alpha + user_bias[users] + movie_bias[movies] + (user_reps[users] * movie_reps[movies]).sum(axis=1)\n",
    "    rmse = ((h - ratings) ** 2).mean() ** 0.5\n",
    "    print(f\"epoch: {epoch}, rmse: {rmse}\")\n",
    "\n",
    "    for user, movie, rating in zip(users, movies, ratings):\n",
    "        bu = user_bias[user]\n",
    "        bi = movie_bias[movie]\n",
    "        ru = user_reps[user]\n",
    "        ri = movie_reps[movie]\n",
    "\n",
    "        # 예측값\n",
    "        est = alpha + bu + bi + np.dot(ru, ri)\n",
    "        diff = est - rating\n",
    "\n",
    "        # gradient descent\n",
    "        grd_user_bias = diff + lmd * bu\n",
    "        grd_movie_bias = diff + lmd * bi\n",
    "        grd_user_reps = diff * ri + lmd * ru\n",
    "        grd_movie_reps = diff * ru + lmd * ri\n",
    "\n",
    "        # update\n",
    "        user_bias[user] -= lr * grd_user_bias\n",
    "        movie_bias[movie] -= lr * grd_movie_bias\n",
    "        user_reps[user] -= lr * grd_user_reps\n",
    "        movie_reps[movie] -= lr * grd_movie_reps"
   ]
  },
  {
   "cell_type": "code",
   "execution_count": 1,
   "metadata": {},
   "outputs": [
    {
     "name": "stdout",
     "output_type": "stream",
     "text": [
      "Defaulting to user installation because normal site-packages is not writeable\n",
      "Collecting surprise\n",
      "  Downloading surprise-0.1-py2.py3-none-any.whl (1.8 kB)\n",
      "Collecting scikit-surprise\n",
      "  Using cached scikit-surprise-1.1.3.tar.gz (771 kB)\n",
      "Requirement already satisfied: joblib>=1.0.0 in /Users/ull/Library/Python/3.9/lib/python/site-packages (from scikit-surprise->surprise) (1.3.2)\n",
      "Requirement already satisfied: numpy>=1.17.3 in /Users/ull/Library/Python/3.9/lib/python/site-packages (from scikit-surprise->surprise) (1.26.4)\n",
      "Requirement already satisfied: scipy>=1.3.2 in /Users/ull/Library/Python/3.9/lib/python/site-packages (from scikit-surprise->surprise) (1.12.0)\n",
      "Building wheels for collected packages: scikit-surprise\n",
      "  Building wheel for scikit-surprise (setup.py) ... \u001b[?25ldone\n",
      "\u001b[?25h  Created wheel for scikit-surprise: filename=scikit_surprise-1.1.3-cp39-cp39-macosx_10_9_universal2.whl size=1607959 sha256=a431db1727abb78a6b55ca6fb2bf682609b379b61fd9626a4bc97c7ddcc4e97f\n",
      "  Stored in directory: /Users/ull/Library/Caches/pip/wheels/c6/3a/46/9b17b3512bdf283c6cb84f59929cdd5199d4e754d596d22784\n",
      "Successfully built scikit-surprise\n",
      "Installing collected packages: scikit-surprise, surprise\n",
      "Successfully installed scikit-surprise-1.1.3 surprise-0.1\n",
      "\u001b[33mWARNING: You are using pip version 21.2.4; however, version 24.0 is available.\n",
      "You should consider upgrading via the '/Library/Developer/CommandLineTools/usr/bin/python3 -m pip install --upgrade pip' command.\u001b[0m\n"
     ]
    }
   ],
   "source": [
    "# !pip3 install surprise"
   ]
  },
  {
   "cell_type": "code",
   "execution_count": 16,
   "metadata": {},
   "outputs": [],
   "source": [
    "from surprise import SVD, Reader, Dataset\n",
    "from surprise.model_selection import train_test_split\n",
    "\n",
    "reader = Reader(line_format=\"user item rating timestamp\", sep=\",\", skip_lines=1)\n",
    "data = Dataset.load_from_file(\"ml-latest-small/ratings.csv\", reader=reader)\n",
    "\n",
    "trainset, testset = train_test_split(data, test_size=0.1)"
   ]
  },
  {
   "cell_type": "code",
   "execution_count": 17,
   "metadata": {},
   "outputs": [
    {
     "data": {
      "text/plain": [
       "Prediction(uid='31', iid='1523', r_ui=None, est=3.854883330512808, details={'was_impossible': False})"
      ]
     },
     "execution_count": 17,
     "metadata": {},
     "output_type": "execute_result"
    }
   ],
   "source": [
    "model = SVD(n_factors=10)\n",
    "\n",
    "model.fit(trainset)\n",
    "\n",
    "model.predict('31', '1523')"
   ]
  },
  {
   "cell_type": "code",
   "execution_count": 18,
   "metadata": {},
   "outputs": [
    {
     "name": "stdout",
     "output_type": "stream",
     "text": [
      "train_rmse: 0.7971972564998103, test_rmse: 0.8644636146547608\n"
     ]
    }
   ],
   "source": [
    "from surprise import accuracy\n",
    "\n",
    "train_to_test = trainset.build_testset()\n",
    "pred_train = model.test(train_to_test)\n",
    "train_rmse = accuracy.rmse(pred_train, verbose=False)\n",
    "\n",
    "pred_test = model.test(testset)\n",
    "test_rmse = accuracy.rmse(pred_test, verbose=False)\n",
    "print(f\"train_rmse: {train_rmse}, test_rmse: {test_rmse}\")"
   ]
  },
  {
   "cell_type": "code",
   "execution_count": null,
   "metadata": {},
   "outputs": [],
   "source": []
  }
 ],
 "metadata": {
  "kernelspec": {
   "display_name": "Python 3",
   "language": "python",
   "name": "python3"
  },
  "language_info": {
   "codemirror_mode": {
    "name": "ipython",
    "version": 3
   },
   "file_extension": ".py",
   "mimetype": "text/x-python",
   "name": "python",
   "nbconvert_exporter": "python",
   "pygments_lexer": "ipython3",
   "version": "3.9.18"
  }
 },
 "nbformat": 4,
 "nbformat_minor": 2
}
